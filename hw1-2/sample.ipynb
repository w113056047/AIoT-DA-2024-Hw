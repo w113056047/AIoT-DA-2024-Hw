{
  "nbformat": 4,
  "nbformat_minor": 0,
  "metadata": {
    "colab": {
      "provenance": []
    },
    "kernelspec": {
      "name": "python3",
      "display_name": "Python 3"
    },
    "language_info": {
      "name": "python"
    }
  },
  "cells": [
    {
      "cell_type": "markdown",
      "source": [
        "Task: Write Python code to solve the Kaggle Boston Housing regression problem writing a web crawier that download the dataset from https://gist.githubusercontent.com/GaneshSparkz/b5662effbdae8746f7f7d8ed70c42b2d/raw/faf8b1a0d58e251f48a647d3881e7a960c3f0925/50_Startups.csv\n",
        "\n",
        "Follow the steps below:\n",
        "\n",
        "Step 1: Import the necessary libraries for data manipulation and model building.\n",
        "\n",
        "Step 2: Load the dataset from the 'train.csv' file and display the first few rows to explore the data.\n",
        "\n",
        "Step 3: Preprocess the data by separating the features (X) and the target variable (y) and use one-hot encoder to deal with the data in row \"State\". Split the data into training and testing sets using the train_test_split function with a test size of 20% and a random state of 42.\n",
        "\n",
        "Step 4: Use Lasso linear regression model to train it using the training data (X_train and Y_train) and list the MSE for best model using different number of variables. Make a table to list the result, and the name of variables.\n",
        "\n",
        "Step 5: Make predictions on the testing data (X_test) using the trained model. Calculate the mean squared error (MSE) between the predicted values and the actual target values (y_test) using the mean_squared_error function from sklearn.metrics. Print the calculated MSE.\n",
        "\n",
        "Note: Replace 'train.csv' with the actual dataset file name.\n",
        "\n",
        "```\n",
        "# 此內容會顯示為程式碼\n",
        "```\n",
        "\n"
      ],
      "metadata": {
        "id": "RfJRKvtgbDoJ"
      }
    },
    {
      "cell_type": "code",
      "source": [],
      "metadata": {
        "id": "xGNoXRJYbDXC"
      },
      "execution_count": null,
      "outputs": []
    },
    {
      "cell_type": "code",
      "source": [
        "import pandas as pd\n",
        "import numpy as np\n",
        "from sklearn.model_selection import train_test_split\n",
        "from sklearn.linear_model import Lasso\n",
        "from sklearn.metrics import mean_squared_error\n",
        "from sklearn.preprocessing import LabelEncoder, OneHotEncoder\n",
        "\n",
        "# Step 1: Import necessary libraries\n",
        "\n",
        "# Step 2: Load the dataset from the URL\n",
        "url = \"https://gist.githubusercontent.com/GaneshSparkz/b5662effbdae8746f7f7d8ed70c42b2d/raw/faf8b1a0d58e251f48a647d3881e7a960c3f0925/50_Startups.csv\"\n",
        "data = pd.read_csv(url)\n",
        "\n",
        "# Display the first few rows to explore the data\n",
        "print(data.head())\n",
        "\n",
        "# Step 3: Preprocess the data\n",
        "label_encoder = LabelEncoder()\n",
        "data['State'] = label_encoder.fit_transform(data['State'])\n",
        "onehot_encoder = OneHotEncoder(sparse=False)\n",
        "encoded_state = onehot_encoder.fit_transform(data[['State']])\n",
        "state_df = pd.DataFrame(encoded_state, columns=['State_' + str(int(i)) for i in range(encoded_state.shape[1])])\n",
        "data = pd.concat([data, state_df], axis=1)\n",
        "data.drop(['State'], axis=1, inplace=True)\n",
        "\n",
        "X = data.drop(['Profit'], axis=1)\n",
        "y = data['Profit']\n",
        "\n",
        "# Split the data into training and testing sets\n",
        "X_train, X_test, y_train, y_test = train_test_split(X, y, test_size=0.2, random_state=42)\n",
        "\n",
        "# Step 4: Train Lasso linear regression model with different numbers of variables\n",
        "results = []\n",
        "\n",
        "for num_features in range(1, X_train.shape[1] + 1):\n",
        "    model = Lasso(alpha=1.0)  # You can adjust the alpha value as needed\n",
        "    model.fit(X_train.iloc[:, :num_features], y_train)\n",
        "    y_pred = model.predict(X_test.iloc[:, :num_features])\n",
        "    mse = mean_squared_error(y_test, y_pred)\n",
        "    results.append((num_features, X_train.columns[:num_features].tolist(), mse))\n",
        "\n",
        "# Create a DataFrame to display the results\n",
        "result_df = pd.DataFrame(results, columns=['Num Features', 'Selected Features', 'MSE'])\n",
        "\n",
        "# Step 5: Make predictions on testing data and calculate MSE for the best model\n",
        "best_model = result_df.loc[result_df['MSE'].idxmin()]\n",
        "best_num_features = best_model['Num Features']\n",
        "best_features = best_model['Selected Features']\n",
        "best_mse = best_model['MSE']\n",
        "\n",
        "print(\"Results for Different Numbers of Variables:\")\n",
        "print(result_df)\n",
        "\n",
        "print(\"\\nBest Model (Minimum MSE):\")\n",
        "print(f\"Number of Features: {best_num_features}\")\n",
        "print(f\"Selected Features: {best_features}\")\n",
        "print(f\"Best MSE: {best_mse}\")"
      ],
      "metadata": {
        "colab": {
          "base_uri": "https://localhost:8080/"
        },
        "id": "HJQAq8Mdazk7",
        "outputId": "78faa009-7447-4e23-8c3b-8ba0725fae3c"
      },
      "execution_count": 3,
      "outputs": [
        {
          "output_type": "stream",
          "name": "stdout",
          "text": [
            "   R&D Spend  Administration  Marketing Spend       State     Profit\n",
            "0  165349.20       136897.80        471784.10    New York  192261.83\n",
            "1  162597.70       151377.59        443898.53  California  191792.06\n",
            "2  153441.51       101145.55        407934.54     Florida  191050.39\n",
            "3  144372.41       118671.85        383199.62    New York  182901.99\n",
            "4  142107.34        91391.77        366168.42     Florida  166187.94\n",
            "Results for Different Numbers of Variables:\n",
            "   Num Features                                  Selected Features  \\\n",
            "0             1                                        [R&D Spend]   \n",
            "1             2                        [R&D Spend, Administration]   \n",
            "2             3       [R&D Spend, Administration, Marketing Spend]   \n",
            "3             4  [R&D Spend, Administration, Marketing Spend, S...   \n",
            "4             5  [R&D Spend, Administration, Marketing Spend, S...   \n",
            "5             6  [R&D Spend, Administration, Marketing Spend, S...   \n",
            "\n",
            "            MSE  \n",
            "0  5.951096e+07  \n",
            "1  8.376413e+07  \n",
            "2  8.092632e+07  \n",
            "3  8.118231e+07  \n",
            "4  8.200419e+07  \n",
            "5  8.200419e+07  \n",
            "\n",
            "Best Model (Minimum MSE):\n",
            "Number of Features: 1\n",
            "Selected Features: ['R&D Spend']\n",
            "Best MSE: 59510962.81867258\n"
          ]
        },
        {
          "output_type": "stream",
          "name": "stderr",
          "text": [
            "/usr/local/lib/python3.10/dist-packages/sklearn/preprocessing/_encoders.py:868: FutureWarning: `sparse` was renamed to `sparse_output` in version 1.2 and will be removed in 1.4. `sparse_output` is ignored unless you leave `sparse` to its default value.\n",
            "  warnings.warn(\n"
          ]
        }
      ]
    },
    {
      "cell_type": "markdown",
      "source": [],
      "metadata": {
        "id": "6JL1lMcGbCIb"
      }
    },
    {
      "cell_type": "code",
      "source": [],
      "metadata": {
        "id": "JYfBDpfLa38k"
      },
      "execution_count": null,
      "outputs": []
    }
  ]
}